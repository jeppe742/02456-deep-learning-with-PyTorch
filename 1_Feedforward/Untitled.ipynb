{
 "cells": [
  {
   "cell_type": "markdown",
   "metadata": {},
   "source": [
    "# Exercise 1\n",
    "\n",
    "## Part 1\n",
    "The output of a perceptron is defined as\n",
    "\n",
    "$$\n",
    "\\text{output} = \n",
    "    \\begin{cases} \n",
    "        1 & \\text{if } w \\cdot x+b > 0 \\\\\n",
    "        0 & \\text{if } w \\cdot x +b \\leq 0\n",
    "    \\end{cases}\n",
    "$$\n",
    "Since the output is binary, and only depends on the sign of $ w \\cdot x+b$, we can multiply with a positive constant, since this doesn't change the sign.\n",
    "\n",
    "If the output of one perceptron is the same, then the entire network should also be the same\n",
    "\n",
    "\n",
    "## Part 2\n",
    "\n",
    "The output of the sigmoid perceptron is defined as\n",
    "\n",
    "$$\n",
    "\\text{output} = \\frac{1}{1+e^{-(w\\cdot x + b)}}\n",
    "$$\n",
    "\n",
    "Let's introduce the new constant as $z = c\\cdot (w\\cdot x + b) $. This has the property \n",
    "\n",
    "$$\n",
    "\\lim_{c \\rightarrow \\infty} z = \n",
    "    \\begin{cases} \n",
    "        \\infty & \\text{if } w \\cdot x+b > 0 \\\\\n",
    "        0 &  \\text{if } w \\cdot x+b = 0\\\\\n",
    "        -\\infty & \\text{if } w \\cdot x +b < 0\n",
    "    \\end{cases}\n",
    "$$\n",
    "Inserting this into the sigmoid function we get\n",
    "\n",
    "$$\n",
    "\\lim_{c \\rightarrow \\infty} \\text{output} = \n",
    "    \\begin{cases} \n",
    "        1 & \\text{if } w \\cdot x+b < 0 \\\\\n",
    "        1/2 & \\text{if} w \\cdot x +b =0 \\\\\n",
    "        0 & \\text{if } w \\cdot x +b > 0\n",
    "    \\end{cases}\n",
    "$$\n",
    "\n",
    "since $ \\lim_{x\\to\\infty} \\exp(-x) = 0$  and $ \\lim_{x\\to 0} \\exp(-x) = \\infty$\n",
    "\n",
    "This almost the same case as the perceptron, except for the case when $w\\cdot x +b=0$"
   ]
  },
  {
   "cell_type": "code",
   "execution_count": null,
   "metadata": {},
   "outputs": [],
   "source": []
  }
 ],
 "metadata": {
  "kernelspec": {
   "display_name": "Python 3",
   "language": "python",
   "name": "python3"
  },
  "language_info": {
   "codemirror_mode": {
    "name": "ipython",
    "version": 3
   },
   "file_extension": ".py",
   "mimetype": "text/x-python",
   "name": "python",
   "nbconvert_exporter": "python",
   "pygments_lexer": "ipython3",
   "version": "3.6.5"
  }
 },
 "nbformat": 4,
 "nbformat_minor": 2
}
