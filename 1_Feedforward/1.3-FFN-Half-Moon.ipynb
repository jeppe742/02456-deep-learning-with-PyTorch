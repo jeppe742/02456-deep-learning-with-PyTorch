{
 "cells": [
  {
   "cell_type": "markdown",
   "metadata": {},
   "source": [
    "# Credits\n",
    "> This code is a slight modification to a translation (TensorFlow --> PyTorch) of a previous version of the [02456](http://kurser.dtu.dk/course/02456) course material. \n",
    "> [Original repo link (TensorFlow)](https://github.com/DeepLearningDTU/02456-deep-learning).\n",
    "> [Translated repo link (PyTorch)](https://github.com/munkai/pytorch-tutorial/tree/master/2_intermediate)."
   ]
  },
  {
   "cell_type": "markdown",
   "metadata": {},
   "source": [
    "# Purpose and goals\n",
    "In this notebook you will implement a simple neural network in PyTorch.\n",
    "\n",
    "The building blocks of PyTorch are Tensors, Variables and Operations, with these we can form dynamic computational graphs that form neural networks.\n",
    "In this exercise we'll start right away by defining a logistic regression model using these sipmle building blocks.\n",
    "We'll initially start with a simple 2D and two-class classification problem where the class decision boundary can be visualized.\n",
    "Initially we show that logistic regression can only separate classes linearly.\n",
    "Adding a nonlinear hidden layer to the algorithm permits nonlinear class separation.\n",
    "\n",
    "In this notebook you should:\n",
    "* **First** run the code as is, and see what it does.\n",
    "* **Then** modify the code, following the instructions in the bottom of the notebook.\n",
    "* **Lastly** play a round a bit, and do some small experiments that you come up with.\n",
    "\n",
    "> We assume that you are already familiar with backpropagation (if not please see [Andrej Karpathy](http://cs.stanford.edu/people/karpathy/) or [Michal Nielsen](http://neuralnetworksanddeeplearning.com/chap2.html))."
   ]
  },
  {
   "cell_type": "markdown",
   "metadata": {},
   "source": [
    "# Dependancies and supporting functions\n",
    "Loading dependancies and supporting functions by running the code block below."
   ]
  },
  {
   "cell_type": "code",
   "execution_count": 1,
   "metadata": {},
   "outputs": [],
   "source": [
    "%matplotlib inline\n",
    "import matplotlib\n",
    "import numpy as np\n",
    "import matplotlib.pyplot as plt\n",
    "import sklearn.datasets\n",
    "\n",
    "# Do not worry about the code below for now, it is used for plotting later\n",
    "def plot_decision_boundary(pred_func, X, y):\n",
    "    #from https://github.com/dennybritz/nn-from-scratch/blob/master/nn-from-scratch.ipynb\n",
    "    # Set min and max values and give it some padding\n",
    "    x_min, x_max = X[:, 0].min() - .5, X[:, 0].max() + .5\n",
    "    y_min, y_max = X[:, 1].min() - .5, X[:, 1].max() + .5\n",
    "    \n",
    "    h = 0.01\n",
    "    # Generate a grid of points with distance h between them\n",
    "    xx, yy = np.meshgrid(np.arange(x_min, x_max, h), np.arange(y_min, y_max, h))\n",
    "    \n",
    "    yy = yy.astype('float32')\n",
    "    xx = xx.astype('float32')\n",
    "    # Predict the function value for the whole gid\n",
    "    Z = pred_func(np.c_[xx.ravel(), yy.ravel()])[:,0]\n",
    "    Z = Z.reshape(xx.shape)\n",
    "    # Plot the contour and training examples\n",
    "    plt.figure()\n",
    "    plt.contourf(xx, yy, Z, cmap=plt.cm.RdBu)\n",
    "    plt.scatter(X[:, 0], X[:, 1], c=-y, cmap=plt.cm.Spectral)\n",
    "\n",
    "def onehot(t, num_classes):\n",
    "    out = np.zeros((t.shape[0], num_classes))\n",
    "    for row, col in enumerate(t):\n",
    "        out[row, col] = 1\n",
    "    return out"
   ]
  },
  {
   "cell_type": "markdown",
   "metadata": {
    "collapsed": true
   },
   "source": [
    "# Problem \n",
    "We'll initally demonstrate the that Multi-layer Perceptrons (MLPs) can classify nonlinear problems, whereas simple logistic regression cannot.\n",
    "For ease of visualization and computationl speed we initially experiment on the simple 2D half-moon dataset, visualized below."
   ]
  },
  {
   "cell_type": "code",
   "execution_count": 78,
   "metadata": {},
   "outputs": [
    {
     "name": "stdout",
     "output_type": "stream",
     "text": [
      "(300, 2) (300,)\n"
     ]
    },
    {
     "data": {
      "image/png": "[encoded data removed]",
      "text/plain": [
       "<Figure size 432x288 with 1 Axes>"
      ]
     },
     "metadata": {
      "needs_background": "light"
     },
     "output_type": "display_data"
    }
   ],
   "source": [
    "# Generate a dataset and plot it\n",
    "np.random.seed(0)\n",
    "num_samples = 300\n",
    "\n",
    "X, y = sklearn.datasets.make_moons(num_samples, noise=0.20)\n",
    "\n",
    "# define train, validation, and test sets\n",
    "X_tr = X[:100].astype('float32')\n",
    "X_val = X[100:200].astype('float32')\n",
    "X_te = X[200:].astype('float32')\n",
    "\n",
    "# and labels\n",
    "y_tr = y[:100].astype('int32')\n",
    "y_val = y[100:200].astype('int32')\n",
    "y_te = y[200:].astype('int32')\n",
    "\n",
    "plt.scatter(X_tr[:,0], X_tr[:,1], s=40, c=y_tr, cmap=plt.cm.Spectral)\n",
    "\n",
    "print(X.shape, y.shape)\n",
    "\n",
    "num_features = X_tr.shape[-1]\n",
    "num_output = 2"
   ]
  },
  {
   "cell_type": "markdown",
   "metadata": {},
   "source": [
    "# From Logistic Regression to \"Deep Learning\"\n",
    "The code implements logistic regression. In section [__Assignments Half Moon__](#Assignments-Half-Moon) (bottom of this notebook) you are asked to modify the code into a neural network.\n",
    "\n",
    "The standard building block for neural networks are layers.\n",
    "The simplest of which is called a *dense feed forward layer*, and it is computed as follows:\n",
    "\n",
    "$$y = \\mathrm{nonlinearity}(xW + b)$$\n",
    "\n",
    "where $x$ is the input vector, $y$ is the output vector, and $W, b$ are the weights (a matrix and vector respectively).\n",
    "The *dense* part of the name comes from the fact that every element of $x$ contributes to every element of $y$.\n",
    "And the *feed forward* part of the name means that the layer processes each input independently. \n",
    "If we were to draw the layer it would be acyclical.\n",
    "Later we will se layers that break both of these conventions."
   ]
  },
  {
   "cell_type": "markdown",
   "metadata": {},
   "source": [
    "- $x$ has shape `[batch_size, num_features]`,\n",
    "- $W$ has shape `[num_features, num_units]`,\n",
    "- $b$ has `[num_units]`, and\n",
    "- $y$ has then `[batch_size, num_units]`"
   ]
  },
  {
   "cell_type": "markdown",
   "metadata": {},
   "source": [
    "## PyTorch 101\n",
    "\n",
    "In this first exercise we will use basic PyTorch functions so that you can learn how to build it from scratch. This will help you later if you want to build your own custom operations."
   ]
  },
  {
   "cell_type": "code",
   "execution_count": 4,
   "metadata": {},
   "outputs": [],
   "source": [
    "import torch\n",
    "from torch.autograd import Variable\n",
    "from torch.nn.parameter import Parameter\n",
    "import torch.nn as nn\n",
    "import torch.nn.functional as F"
   ]
  },
  {
   "cell_type": "markdown",
   "metadata": {},
   "source": [
    "[`Parameters`](http://pytorch.org/docs/0.1.12/nn.html#torch.nn.Parameter) are [`Variable`](http://pytorch.org/docs/0.1.12/autograd.html#torch.autograd.Variable) subclasses, that have a very special property when used with [`Module`](http://pytorch.org/docs/0.1.12/nn.html#torch.nn.Module)'s - when they’re assigned as `Module` attributes they are automatically added to the list of its parameters, and will appear e.g. in [`.parameters()`](http://pytorch.org/docs/0.1.12/nn.html#torch.nn.Module.parameters) iterator.\n",
    "Assigning a Variable doesn’t have such effect.\n",
    "This is because one might want to cache some temporary state (more on this later) in the model.\n",
    "If there was no such class as `Parameter`, these temporaries would get registered too."
   ]
  },
  {
   "cell_type": "code",
   "execution_count": 37,
   "metadata": {},
   "outputs": [],
   "source": [
    "class Net(nn.Module):\n",
    "\n",
    "    def __init__(self):\n",
    "        super(Net, self).__init__()\n",
    "        # Setting up variables, these variables are weights in your \n",
    "        # network that can be updated while running our graph.\n",
    "        # Notice, to make a hidden layer, the weights need to have the \n",
    "        # following dimensionality:\n",
    "        #   W[number_of_units_going_out, number_of_units_going_in]\n",
    "        #   b[number_of_units_going_out]\n",
    "        # in the example below we have 2 input units (num_features) and 2 output units (num_output)\n",
    "        # so our weights become W[2, 2], b[2]\n",
    "        # if we want to make a hidden layer with 100 units, we need to define the shape of the\n",
    "        # first weight to W[100, 2], b[2] and the shape of the second weight to W[2, 100], b[2]\n",
    "        \n",
    "        # first layer\n",
    "        self.W_1 = Parameter(torch.randn(num_output, num_features)) \n",
    "        self.b_1 = Parameter(torch.randn(num_output))\n",
    "        \n",
    "        # second layer (to be completed as an exercise)\n",
    "        # NB when you create a second layer, remember that you also must change parts of the first layer\n",
    "        # self.W_2 = <YOUR CODE HERE>\n",
    "        # self.b_2 = <YOUR CODE HERE>\n",
    "        \n",
    "    def forward(self, x):\n",
    "        # Setting up ops, these ops will define edges along our computational graph\n",
    "        # The below ops will compute a logistic regression, \n",
    "        # but can be modified to compute a neural network\n",
    "        x = F.linear(x, self.W_1, self.b_1)\n",
    "        \n",
    "        # second layer (to be completed as an exercise)\n",
    "        # NB when you create a second layer, remember that you also must change parts of the first layer\n",
    "        # x = F.linear(x, self.W_2, self.b_2)\n",
    "        return F.softmax(x, dim=1) # softmax to be performed on the second dimension\n",
    "\n",
    "net = Net()"
   ]
  },
  {
   "cell_type": "markdown",
   "metadata": {},
   "source": [
    "Knowing how to print your tensors is useful"
   ]
  },
  {
   "cell_type": "code",
   "execution_count": 6,
   "metadata": {},
   "outputs": [
    {
     "name": "stdout",
     "output_type": "stream",
     "text": [
      "NAMED PARAMETERS\n",
      "[('W_1', Parameter containing:\n",
      "tensor([[ 0.5571,  0.2266],\n",
      "        [ 1.0171, -0.8686]], requires_grad=True)), ('b_1', Parameter containing:\n",
      "tensor([1.0862, 0.1784], requires_grad=True))]\n",
      "\n",
      "PARAMETERS\n",
      "[Parameter containing:\n",
      "tensor([[ 0.5571,  0.2266],\n",
      "        [ 1.0171, -0.8686]], requires_grad=True), Parameter containing:\n",
      "tensor([1.0862, 0.1784], requires_grad=True)]\n",
      "\n",
      "WEIGHTS\n",
      "Parameter containing:\n",
      "tensor([[ 0.5571,  0.2266],\n",
      "        [ 1.0171, -0.8686]], requires_grad=True)\n",
      "torch.Size([2, 2])\n",
      "\n",
      "BIAS\n",
      "Parameter containing:\n",
      "tensor([1.0862, 0.1784], requires_grad=True)\n",
      "torch.Size([2])\n"
     ]
    }
   ],
   "source": [
    "# list all parameters in your network\n",
    "print(\"NAMED PARAMETERS\")\n",
    "print(list(net.named_parameters()))\n",
    "print()\n",
    "# the .parameters() method simply gives the Tensors in the list\n",
    "print(\"PARAMETERS\")\n",
    "print(list(net.parameters()))\n",
    "print()\n",
    "\n",
    "# list individual parameters by name\n",
    "print('WEIGHTS')\n",
    "print(net.W_1)\n",
    "print(net.W_1.size())\n",
    "print('\\nBIAS')\n",
    "print(net.b_1)\n",
    "print(net.b_1.size())"
   ]
  },
  {
   "cell_type": "markdown",
   "metadata": {},
   "source": [
    "# Exploring Parameter\n",
    "\n",
    "Ok, let's investigate what a Parameter/Variable is"
   ]
  },
  {
   "cell_type": "code",
   "execution_count": 7,
   "metadata": {},
   "outputs": [
    {
     "name": "stdout",
     "output_type": "stream",
     "text": [
      "## this is the tensor\n",
      "tensor([[ 0.5571,  0.2266],\n",
      "        [ 1.0171, -0.8686]])\n",
      "\n",
      "## this is the tensor's gradient\n",
      "None\n",
      "\n",
      "## is it a leaf in the graph?\n",
      "True\n"
     ]
    }
   ],
   "source": [
    "param = net.W_1\n",
    "print(\"## this is the tensor\")\n",
    "print(param.data)\n",
    "print(\"\\n## this is the tensor's gradient\")\n",
    "print(param.grad)\n",
    "# notice, the gradient is undefined because we have not yet run a backward pass\n",
    "\n",
    "print(\"\\n## is it a leaf in the graph?\")\n",
    "print(param.is_leaf)"
   ]
  },
  {
   "cell_type": "markdown",
   "metadata": {},
   "source": [
    "## Excluding subgraphs from backward propagation\n",
    "\n",
    "`Variable`s have two properties which allow you to define if a graph is going to be used for training or inference, `requires_grad` and `volatile`.\n",
    "During training we might not want to compute the gradients for all layers, e.g. if we have a pretrained model or embeddings that we do not want to change the values of.\n",
    "To compute gradients we need to store activations and compute the backward pass for the given layer.\n",
    "Setting `requires_grad = False` will allow you to circumvent these properties.\n",
    "If any paramater in an operation / layer requires gradient then the entire output of the operation will also require gradient.\n",
    "\n",
    "The `volatile` property is mostly used when you want to run inference with your model, and if it is set to `True` the entire graph will not require gradient. This means that you expect to never call `.backward()` on the network.\n",
    "\n",
    "See http://pytorch.org/docs/master/notes/autograd.html for an in-depth explanation."
   ]
  },
  {
   "cell_type": "markdown",
   "metadata": {},
   "source": [
    "# Test network\n",
    "\n",
    "To use our network we can simply call our graph, and it will dynamically be created. Here is an example of running the network's forward pass."
   ]
  },
  {
   "cell_type": "code",
   "execution_count": 8,
   "metadata": {},
   "outputs": [
    {
     "name": "stdout",
     "output_type": "stream",
     "text": [
      "input\n",
      "tensor([[ 0.9153,  0.4423],\n",
      "        [ 0.4164, -0.3512],\n",
      "        [-0.1010,  0.9704],\n",
      "        [ 0.4085,  1.1670],\n",
      "        [ 0.3749,  0.2090]])\n",
      "\n",
      "output\n",
      "tensor([[0.7254, 0.2746],\n",
      "        [0.5822, 0.4178],\n",
      "        [0.8826, 0.1174],\n",
      "        [0.8806, 0.1194],\n",
      "        [0.7240, 0.2760]], grad_fn=<SoftmaxBackward>)\n"
     ]
    }
   ],
   "source": [
    "X = Variable(torch.randn(5, num_features))\n",
    "# the net.__call__ runs some pre-defined functions\n",
    "# both before and after running net.forward()\n",
    "# see http://pytorch.org/docs/master/_modules/torch/nn/modules/module.html\n",
    "\n",
    "print('input')\n",
    "print(X)\n",
    "\n",
    "print('\\noutput')\n",
    "print(net(X))"
   ]
  },
  {
   "cell_type": "markdown",
   "metadata": {},
   "source": [
    "Parameters is a special case of Variable "
   ]
  },
  {
   "cell_type": "code",
   "execution_count": 9,
   "metadata": {},
   "outputs": [
    {
     "name": "stdout",
     "output_type": "stream",
     "text": [
      "tensor([[ 0.5571,  0.2266],\n",
      "        [ 1.0171, -0.8686]])\n",
      "None\n",
      "\n",
      "tensor([1.0862, 0.1784])\n",
      "None\n",
      "\n"
     ]
    }
   ],
   "source": [
    "# let's take a look at the gradients\n",
    "for p in net.parameters():\n",
    "    print(p.data)\n",
    "    print(p.grad)\n",
    "    print()"
   ]
  },
  {
   "cell_type": "code",
   "execution_count": 10,
   "metadata": {},
   "outputs": [],
   "source": [
    "X = Variable(torch.randn(7, num_features))\n",
    "out = net(X)\n",
    "# we need to give a tensor of gradients to .backward,\n",
    "# we give a dummy tensor\n",
    "out.backward(torch.randn(7, num_output))"
   ]
  },
  {
   "cell_type": "markdown",
   "metadata": {},
   "source": [
    "for details on `.backward()`, see http://pytorch.org/docs/master/autograd.html#torch.autograd.backward"
   ]
  },
  {
   "cell_type": "code",
   "execution_count": 11,
   "metadata": {},
   "outputs": [
    {
     "name": "stdout",
     "output_type": "stream",
     "text": [
      "tensor([[ 0.5571,  0.2266],\n",
      "        [ 1.0171, -0.8686]])\n",
      "tensor([[ 1.6238,  0.7911],\n",
      "        [-1.6238, -0.7911]])\n",
      "\n",
      "tensor([1.0862, 0.1784])\n",
      "tensor([-1.1797,  1.1797])\n",
      "\n"
     ]
    }
   ],
   "source": [
    "# let's take a look at the gradients\n",
    "for p in net.parameters():\n",
    "    print(p.data)\n",
    "    print(p.grad)\n",
    "    print()"
   ]
  },
  {
   "cell_type": "code",
   "execution_count": 12,
   "metadata": {},
   "outputs": [
    {
     "name": "stdout",
     "output_type": "stream",
     "text": [
      "tensor([[ 0.5571,  0.2266],\n",
      "        [ 1.0171, -0.8686]])\n",
      "tensor([[0., 0.],\n",
      "        [0., 0.]])\n",
      "tensor([1.0862, 0.1784])\n",
      "tensor([0., 0.])\n"
     ]
    }
   ],
   "source": [
    "# ok, let's try and zero the accumulated gradients\n",
    "net.zero_grad()\n",
    "for p in net.parameters():\n",
    "    print(p.data)\n",
    "    print(p.grad)"
   ]
  },
  {
   "cell_type": "markdown",
   "metadata": {},
   "source": [
    "# Loss function\n",
    "\n",
    "Let's define a custom loss function to compute how good our graph is doing."
   ]
  },
  {
   "cell_type": "code",
   "execution_count": 16,
   "metadata": {},
   "outputs": [],
   "source": [
    "def cross_entropy(ys, ts):\n",
    "    # computing cross entropy per sample\n",
    "    cross_entropy = -torch.sum(ts * torch.log(ys), dim=1, keepdim=False)\n",
    "    # averaging over samples\n",
    "    return torch.mean(cross_entropy)"
   ]
  },
  {
   "cell_type": "markdown",
   "metadata": {},
   "source": [
    "To train our neural network we need to update the parameters in direction of the negative gradient w.r.t the cost function we defined earlier.\n",
    "We can use [`torch.optim`](http://pytorch.org/docs/master/optim.html) to get the gradients with some update rule for all parameters in the network.\n",
    "\n",
    "Heres a small animation of gradient descent: http://imgur.com/a/Hqolp, which also illustrates which challenges optimizers might face, e.g. saddle points."
   ]
  },
  {
   "cell_type": "code",
   "execution_count": 38,
   "metadata": {},
   "outputs": [],
   "source": [
    "import torch.optim as optim\n",
    "\n",
    "optimizer = optim.SGD(net.parameters(), lr=0.01)"
   ]
  },
  {
   "cell_type": "markdown",
   "metadata": {},
   "source": [
    "Next, we make the prediction functions, such that we can get an accuracy measure over a batch"
   ]
  },
  {
   "cell_type": "code",
   "execution_count": 18,
   "metadata": {},
   "outputs": [],
   "source": [
    "def accuracy(ys, ts):\n",
    "    # making a one-hot encoded vector of correct (1) and incorrect (0) predictions\n",
    "    correct_prediction = torch.eq(torch.max(ys, 1)[1], torch.max(ts, 1)[1])\n",
    "    # averaging the one-hot encoded vector\n",
    "    return torch.mean(correct_prediction.float())"
   ]
  },
  {
   "cell_type": "markdown",
   "metadata": {},
   "source": [
    "The next step is to utilize our `optimizer` repeatedly in order to optimize our weights `W_1` and `b_1` to make the best possible linear seperation of the half moon dataset."
   ]
  },
  {
   "cell_type": "code",
   "execution_count": 39,
   "metadata": {
    "scrolled": false
   },
   "outputs": [
    {
     "name": "stdout",
     "output_type": "stream",
     "text": [
      "Epoch 0, Train Cost: 1.958\tVal Cost: 1.737\t Val acc: 0.520\n",
      "Epoch 100, Train Cost: 1.127\tVal Cost: 1.007\t Val acc: 0.520\n",
      "Epoch 200, Train Cost: 0.743\tVal Cost: 0.686\t Val acc: 0.650\n",
      "Epoch 300, Train Cost: 0.605\tVal Cost: 0.578\t Val acc: 0.640\n",
      "Epoch 400, Train Cost: 0.543\tVal Cost: 0.532\t Val acc: 0.660\n",
      "Epoch 500, Train Cost: 0.507\tVal Cost: 0.504\t Val acc: 0.700\n",
      "Epoch 600, Train Cost: 0.481\tVal Cost: 0.484\t Val acc: 0.710\n",
      "Epoch 700, Train Cost: 0.461\tVal Cost: 0.467\t Val acc: 0.720\n",
      "Epoch 800, Train Cost: 0.445\tVal Cost: 0.452\t Val acc: 0.720\n",
      "Epoch 900, Train Cost: 0.431\tVal Cost: 0.440\t Val acc: 0.730\n",
      "\n",
      "Test Cost: 0.389\tTest Accuracy: 0.760\n"
     ]
    },
    {
     "data": {
      "image/png": "[encoded data removed]",
      "text/plain": [
       "<Figure size 432x288 with 1 Axes>"
      ]
     },
     "metadata": {
      "needs_background": "light"
     },
     "output_type": "display_data"
    },
    {
     "data": {
      "image/png": "[encoded data removed]",
      "text/plain": [
       "<Figure size 432x288 with 1 Axes>"
      ]
     },
     "metadata": {
      "needs_background": "light"
     },
     "output_type": "display_data"
    },
    {
     "data": {
      "image/png": "[encoded data removed]",
      "text/plain": [
       "<Figure size 432x288 with 1 Axes>"
      ]
     },
     "metadata": {
      "needs_background": "light"
     },
     "output_type": "display_data"
    },
    {
     "data": {
      "image/png": "[encoded data removed]",
      "text/plain": [
       "<Figure size 432x288 with 1 Axes>"
      ]
     },
     "metadata": {
      "needs_background": "light"
     },
     "output_type": "display_data"
    }
   ],
   "source": [
    "# number of training passses\n",
    "num_epochs = 1000\n",
    "# store loss and accuracy for information\n",
    "train_losses, val_losses, train_accs, val_accs = [], [], [], []\n",
    "\n",
    "def pred(X):\n",
    "    \"\"\" Compute graph's prediction and return numpy array\n",
    "    \n",
    "    Parameters\n",
    "    ----------\n",
    "    X : numpy.ndarray\n",
    "    \n",
    "    Returns\n",
    "    -------\n",
    "    numpy.ndarray\n",
    "    \"\"\"\n",
    "    X = Variable(torch.from_numpy(X))\n",
    "    y = net(X)\n",
    "    return y.data.numpy()\n",
    "\n",
    "# plot boundary on testset before training session\n",
    "plot_decision_boundary(lambda x: pred(x), X_te, y_te)\n",
    "plt.title(\"Untrained Classifier\")\n",
    "\n",
    "# training loop\n",
    "for e in range(num_epochs):\n",
    "    # get training input and expected output as torch Variables and make sure type is correct\n",
    "    tr_input = Variable(torch.from_numpy(X_tr))\n",
    "    tr_targets = Variable(torch.from_numpy(onehot(y_tr, num_output))).float()\n",
    "    \n",
    "    # zeroize accumulated gradients in parameters\n",
    "    optimizer.zero_grad()\n",
    "    # predict by running forward pass\n",
    "    tr_output = net(tr_input)\n",
    "    # compute cross entropy loss\n",
    "    tr_loss = cross_entropy(tr_output, tr_targets)\n",
    "    # compute gradients given loss\n",
    "    tr_loss.backward()\n",
    "    # update the parameters given the computed gradients\n",
    "    optimizer.step()\n",
    "    train_acc = accuracy(tr_output, tr_targets)\n",
    "    \n",
    "    # store training loss\n",
    "    train_losses.append(tr_loss.data.numpy())\n",
    "    train_accs.append(train_acc)\n",
    "    \n",
    "    # get validation input and expected output as torch Variables and make sure type is correct\n",
    "    val_input = Variable(torch.from_numpy(X_val))\n",
    "    val_targets = Variable(torch.from_numpy(onehot(y_val, num_output))).float()\n",
    "    \n",
    "    # predict with validation input\n",
    "    val_output = net(val_input)\n",
    "    # compute loss and accuracy\n",
    "    val_loss = cross_entropy(val_output, val_targets)\n",
    "    val_acc = accuracy(val_output, val_targets)\n",
    "    \n",
    "    # store loss and accuracy\n",
    "    val_losses.append(val_loss.data.numpy())\n",
    "    val_accs.append(val_acc.data.numpy())\n",
    "    \n",
    "    if e % 100 == 0:\n",
    "        print(\"Epoch %i, \"\n",
    "              \"Train Cost: %0.3f\"\n",
    "              \"\\tVal Cost: %0.3f\"\n",
    "              \"\\t Val acc: %0.3f\" % (e, \n",
    "                                     train_losses[-1],\n",
    "                                     val_losses[-1],\n",
    "                                     val_accs[-1]))\n",
    "        \n",
    "        \n",
    "# get test input and expected output\n",
    "te_input = Variable(torch.from_numpy(X_te))\n",
    "te_targets = Variable(torch.from_numpy(onehot(y_te, num_output))).float()\n",
    "# predict on testset\n",
    "te_output = net(te_input)\n",
    "# compute loss and accuracy\n",
    "te_loss = cross_entropy(te_output, te_targets)\n",
    "te_acc = accuracy(te_output, te_targets)\n",
    "print(\"\\nTest Cost: %0.3f\\tTest Accuracy: %0.3f\" % (te_loss.data.numpy(), te_acc.data.numpy()))\n",
    "\n",
    "# plot boundary on testset after training session\n",
    "plot_decision_boundary(lambda x: pred(x), X_te, y_te)\n",
    "plt.title(\"Trained Classifier\")\n",
    "\n",
    "plt.figure()\n",
    "epoch = np.arange(len(train_losses))\n",
    "plt.plot(epoch, train_losses, 'r', label='Train Loss')\n",
    "plt.plot(epoch, val_losses, 'b', label='Val Loss')\n",
    "plt.legend()\n",
    "plt.xlabel('Updates')\n",
    "plt.ylabel('Loss')\n",
    "plt.show()\n",
    "\n",
    "plt.figure()\n",
    "plt.plot(epoch, train_accs, 'r', label='Train Acc')\n",
    "plt.plot(epoch, val_accs, 'b', label='Val Acc')\n",
    "plt.legend()\n",
    "plt.xlabel('Updates')\n",
    "plt.ylabel('Accuracy')\n",
    "plt.show()"
   ]
  },
  {
   "cell_type": "markdown",
   "metadata": {},
   "source": [
    "# Assignments\n",
    "\n",
    "1. A linear logistic classifier is only able to create a linear decision boundary. Change the Logistic classifier into a (nonlinear) Neural network by inserting a dense hidden layer between the input and output layers of the model\n",
    " \n",
    "2. Experiment with multiple hidden layers or more / less hidden units. What happens to the decision boundary?\n",
    " \n",
    "3. Overfitting: When increasing the number of hidden layers / units the neural network will fit the training data better by creating a highly nonlinear decision boundary. If the model is to complex it will often generalize poorly to new data (validation and test set). Can you observe this from the training and validation errors? \n",
    " \n",
    "4. We used the vanilla stocastic gradient descent algorithm for parameter updates. This is usually slow to converge and more sophisticated pseudo-second-order methods usually works better. Try changing the optimizer to [adam or momentum](http://pytorch.org/docs/master/optim.html#torch.optim.Adam)"
   ]
  },
  {
   "cell_type": "markdown",
   "metadata": {},
   "source": [
    "When you're done, continue to the next part of this lab."
   ]
  },
  {
   "cell_type": "code",
   "execution_count": 90,
   "metadata": {},
   "outputs": [],
   "source": [
    "num_hidden1 = 100\n",
    "num_hidden2 = num_output\n",
    "class NNet(nn.Module):\n",
    "\n",
    "    def __init__(self):\n",
    "        super(NNet, self).__init__()\n",
    "        # Setting up variables, these variables are weights in your \n",
    "        # network that can be updated while running our graph.\n",
    "        # Notice, to make a hidden layer, the weights need to have the \n",
    "        # following dimensionality:\n",
    "        #   W[number_of_units_going_out, number_of_units_going_in]\n",
    "        #   b[number_of_units_going_out]\n",
    "        # in the example below we have 2 input units (num_features) and 2 output units (num_output)\n",
    "        # so our weights become W[2, 2], b[2]\n",
    "        # if we want to make a hidden layer with 100 units, we need to define the shape of the\n",
    "        # first weight to W[100, 2], b[2] and the shape of the second weight to W[2, 100], b[2]\n",
    "        \n",
    "        # first layer\n",
    "        self.W_1 = Parameter(torch.randn(num_hidden1, num_features)) \n",
    "        self.b_1 = Parameter(torch.randn(num_hidden1))\n",
    "        \n",
    "        # second layer (to be completed as an exercise)\n",
    "        # NB when you create a second layer, remember that you also must change parts of the first layer\n",
    "        self.W_2 = Parameter(torch.randn(num_hidden2, num_hidden1))\n",
    "        self.b_2 = Parameter(torch.randn(num_hidden2))\n",
    "        \n",
    "        #self.W_3 = Parameter(torch.randn(num_output, num_hidden2))\n",
    "        #self.b_3 = Parameter(torch.randn(num_output))\n",
    "        \n",
    "    def forward(self, x):\n",
    "        # Setting up ops, these ops will define edges along our computational graph\n",
    "        # The below ops will compute a logistic regression, \n",
    "        # but can be modified to compute a neural network\n",
    "        x = F.relu(F.linear(x, self.W_1, self.b_1))\n",
    "        \n",
    "        # second layer (to be completed as an exercise)\n",
    "        # NB when you create a second layer, remember that you also must change parts of the first layer\n",
    "        x = F.relu(F.linear(x, self.W_2, self.b_2))\n",
    "        \n",
    "        #x = F.relu(F.linear(x, self.W_3, self.b_3))\n",
    "        return F.softmax(x, dim=1) # softmax to be performed on the second dimension\n",
    "\n"
   ]
  },
  {
   "cell_type": "code",
   "execution_count": 91,
   "metadata": {
    "scrolled": true
   },
   "outputs": [
    {
     "name": "stdout",
     "output_type": "stream",
     "text": [
      "Epoch 0, Train Cost: 1.686\tVal Cost: 1.380\t Val acc: 0.700\n",
      "Epoch 100, Train Cost: 0.433\tVal Cost: 0.490\t Val acc: 0.820\n",
      "Epoch 200, Train Cost: 0.301\tVal Cost: 0.366\t Val acc: 0.850\n",
      "Epoch 300, Train Cost: 0.232\tVal Cost: 0.339\t Val acc: 0.870\n",
      "Epoch 400, Train Cost: 0.221\tVal Cost: 0.327\t Val acc: 0.870\n",
      "Epoch 500, Train Cost: 0.214\tVal Cost: 0.322\t Val acc: 0.880\n",
      "Epoch 600, Train Cost: 0.208\tVal Cost: 0.308\t Val acc: 0.900\n",
      "Epoch 700, Train Cost: 0.163\tVal Cost: 0.265\t Val acc: 0.960\n",
      "Epoch 800, Train Cost: 0.139\tVal Cost: 0.227\t Val acc: 0.970\n",
      "Epoch 900, Train Cost: 0.115\tVal Cost: 0.206\t Val acc: 0.960\n",
      "Epoch 1000, Train Cost: 0.092\tVal Cost: 0.194\t Val acc: 0.960\n",
      "Epoch 1100, Train Cost: 0.086\tVal Cost: 0.187\t Val acc: 0.960\n",
      "Epoch 1200, Train Cost: 0.079\tVal Cost: 0.181\t Val acc: 0.960\n",
      "Epoch 1300, Train Cost: 0.066\tVal Cost: 0.167\t Val acc: 0.960\n",
      "Epoch 1400, Train Cost: 0.061\tVal Cost: 0.163\t Val acc: 0.960\n",
      "Epoch 1500, Train Cost: 0.058\tVal Cost: 0.162\t Val acc: 0.960\n",
      "Epoch 1600, Train Cost: 0.056\tVal Cost: 0.161\t Val acc: 0.960\n",
      "Epoch 1700, Train Cost: 0.053\tVal Cost: 0.159\t Val acc: 0.960\n",
      "Epoch 1800, Train Cost: 0.051\tVal Cost: 0.157\t Val acc: 0.960\n",
      "Epoch 1900, Train Cost: 0.047\tVal Cost: 0.154\t Val acc: 0.960\n",
      "Epoch 2000, Train Cost: 0.033\tVal Cost: 0.141\t Val acc: 0.970\n",
      "Epoch 2100, Train Cost: 0.027\tVal Cost: 0.139\t Val acc: 0.970\n",
      "Epoch 2200, Train Cost: 0.025\tVal Cost: 0.139\t Val acc: 0.970\n",
      "Epoch 2300, Train Cost: 0.023\tVal Cost: 0.139\t Val acc: 0.970\n",
      "Epoch 2400, Train Cost: 0.022\tVal Cost: 0.139\t Val acc: 0.970\n",
      "Epoch 2500, Train Cost: 0.021\tVal Cost: 0.139\t Val acc: 0.970\n",
      "Epoch 2600, Train Cost: 0.021\tVal Cost: 0.140\t Val acc: 0.970\n",
      "Epoch 2700, Train Cost: 0.020\tVal Cost: 0.141\t Val acc: 0.970\n",
      "Epoch 2800, Train Cost: 0.019\tVal Cost: 0.141\t Val acc: 0.970\n",
      "Epoch 2900, Train Cost: 0.019\tVal Cost: 0.142\t Val acc: 0.970\n",
      "Epoch 3000, Train Cost: 0.018\tVal Cost: 0.143\t Val acc: 0.970\n",
      "Epoch 3100, Train Cost: 0.018\tVal Cost: 0.144\t Val acc: 0.970\n",
      "Epoch 3200, Train Cost: 0.017\tVal Cost: 0.144\t Val acc: 0.970\n",
      "Epoch 3300, Train Cost: 0.017\tVal Cost: 0.145\t Val acc: 0.970\n",
      "Epoch 3400, Train Cost: 0.016\tVal Cost: 0.146\t Val acc: 0.970\n",
      "Epoch 3500, Train Cost: 0.016\tVal Cost: 0.147\t Val acc: 0.970\n",
      "Epoch 3600, Train Cost: 0.015\tVal Cost: 0.147\t Val acc: 0.970\n",
      "Epoch 3700, Train Cost: 0.015\tVal Cost: 0.148\t Val acc: 0.970\n",
      "Epoch 3800, Train Cost: 0.015\tVal Cost: 0.149\t Val acc: 0.970\n",
      "Epoch 3900, Train Cost: 0.014\tVal Cost: 0.150\t Val acc: 0.970\n",
      "Epoch 4000, Train Cost: 0.014\tVal Cost: 0.150\t Val acc: 0.970\n",
      "Epoch 4100, Train Cost: 0.014\tVal Cost: 0.151\t Val acc: 0.970\n",
      "Epoch 4200, Train Cost: 0.013\tVal Cost: 0.152\t Val acc: 0.970\n",
      "Epoch 4300, Train Cost: 0.013\tVal Cost: 0.153\t Val acc: 0.970\n",
      "Epoch 4400, Train Cost: 0.013\tVal Cost: 0.153\t Val acc: 0.970\n",
      "Epoch 4500, Train Cost: 0.012\tVal Cost: 0.154\t Val acc: 0.970\n",
      "Epoch 4600, Train Cost: 0.012\tVal Cost: 0.155\t Val acc: 0.970\n",
      "Epoch 4700, Train Cost: 0.012\tVal Cost: 0.156\t Val acc: 0.970\n",
      "Epoch 4800, Train Cost: 0.012\tVal Cost: 0.156\t Val acc: 0.970\n",
      "Epoch 4900, Train Cost: 0.012\tVal Cost: 0.157\t Val acc: 0.970\n",
      "Epoch 5000, Train Cost: 0.011\tVal Cost: 0.158\t Val acc: 0.970\n",
      "Epoch 5100, Train Cost: 0.011\tVal Cost: 0.159\t Val acc: 0.970\n",
      "Epoch 5200, Train Cost: 0.011\tVal Cost: 0.159\t Val acc: 0.970\n",
      "Epoch 5300, Train Cost: 0.011\tVal Cost: 0.160\t Val acc: 0.970\n",
      "Epoch 5400, Train Cost: 0.011\tVal Cost: 0.160\t Val acc: 0.970\n",
      "Epoch 5500, Train Cost: 0.011\tVal Cost: 0.161\t Val acc: 0.970\n",
      "Epoch 5600, Train Cost: 0.010\tVal Cost: 0.162\t Val acc: 0.970\n",
      "Epoch 5700, Train Cost: 0.010\tVal Cost: 0.162\t Val acc: 0.970\n",
      "Epoch 5800, Train Cost: 0.010\tVal Cost: 0.163\t Val acc: 0.970\n",
      "Epoch 5900, Train Cost: 0.010\tVal Cost: 0.163\t Val acc: 0.970\n",
      "Epoch 6000, Train Cost: 0.010\tVal Cost: 0.164\t Val acc: 0.970\n",
      "Epoch 6100, Train Cost: 0.010\tVal Cost: 0.164\t Val acc: 0.970\n",
      "Epoch 6200, Train Cost: 0.009\tVal Cost: 0.165\t Val acc: 0.970\n",
      "Epoch 6300, Train Cost: 0.009\tVal Cost: 0.165\t Val acc: 0.970\n",
      "Epoch 6400, Train Cost: 0.009\tVal Cost: 0.166\t Val acc: 0.970\n",
      "Epoch 6500, Train Cost: 0.009\tVal Cost: 0.166\t Val acc: 0.970\n",
      "Epoch 6600, Train Cost: 0.009\tVal Cost: 0.167\t Val acc: 0.970\n",
      "Epoch 6700, Train Cost: 0.009\tVal Cost: 0.168\t Val acc: 0.970\n",
      "Epoch 6800, Train Cost: 0.009\tVal Cost: 0.168\t Val acc: 0.970\n",
      "Epoch 6900, Train Cost: 0.009\tVal Cost: 0.169\t Val acc: 0.970\n",
      "Epoch 7000, Train Cost: 0.009\tVal Cost: 0.169\t Val acc: 0.970\n",
      "Epoch 7100, Train Cost: 0.008\tVal Cost: 0.169\t Val acc: 0.970\n",
      "Epoch 7200, Train Cost: 0.008\tVal Cost: 0.170\t Val acc: 0.970\n",
      "Epoch 7300, Train Cost: 0.008\tVal Cost: 0.170\t Val acc: 0.970\n",
      "Epoch 7400, Train Cost: 0.008\tVal Cost: 0.171\t Val acc: 0.970\n",
      "Epoch 7500, Train Cost: 0.008\tVal Cost: 0.171\t Val acc: 0.970\n",
      "Epoch 7600, Train Cost: 0.008\tVal Cost: 0.172\t Val acc: 0.970\n",
      "Epoch 7700, Train Cost: 0.008\tVal Cost: 0.172\t Val acc: 0.970\n",
      "Epoch 7800, Train Cost: 0.008\tVal Cost: 0.173\t Val acc: 0.970\n",
      "Epoch 7900, Train Cost: 0.008\tVal Cost: 0.173\t Val acc: 0.970\n",
      "Epoch 8000, Train Cost: 0.008\tVal Cost: 0.174\t Val acc: 0.970\n",
      "Epoch 8100, Train Cost: 0.007\tVal Cost: 0.174\t Val acc: 0.970\n",
      "Epoch 8200, Train Cost: 0.007\tVal Cost: 0.175\t Val acc: 0.970\n",
      "Epoch 8300, Train Cost: 0.007\tVal Cost: 0.175\t Val acc: 0.970\n",
      "Epoch 8400, Train Cost: 0.007\tVal Cost: 0.175\t Val acc: 0.970\n",
      "Epoch 8500, Train Cost: 0.007\tVal Cost: 0.176\t Val acc: 0.970\n",
      "Epoch 8600, Train Cost: 0.007\tVal Cost: 0.176\t Val acc: 0.970\n",
      "Epoch 8700, Train Cost: 0.007\tVal Cost: 0.177\t Val acc: 0.970\n",
      "Epoch 8800, Train Cost: 0.007\tVal Cost: 0.177\t Val acc: 0.970\n",
      "Epoch 8900, Train Cost: 0.007\tVal Cost: 0.178\t Val acc: 0.970\n",
      "Epoch 9000, Train Cost: 0.007\tVal Cost: 0.178\t Val acc: 0.970\n",
      "Epoch 9100, Train Cost: 0.007\tVal Cost: 0.178\t Val acc: 0.970\n",
      "Epoch 9200, Train Cost: 0.007\tVal Cost: 0.179\t Val acc: 0.970\n",
      "Epoch 9300, Train Cost: 0.007\tVal Cost: 0.179\t Val acc: 0.970\n",
      "Epoch 9400, Train Cost: 0.006\tVal Cost: 0.179\t Val acc: 0.970\n",
      "Epoch 9500, Train Cost: 0.006\tVal Cost: 0.180\t Val acc: 0.970\n",
      "Epoch 9600, Train Cost: 0.006\tVal Cost: 0.180\t Val acc: 0.970\n",
      "Epoch 9700, Train Cost: 0.006\tVal Cost: 0.180\t Val acc: 0.970\n",
      "Epoch 9800, Train Cost: 0.006\tVal Cost: 0.181\t Val acc: 0.970\n",
      "Epoch 9900, Train Cost: 0.006\tVal Cost: 0.181\t Val acc: 0.970\n",
      "\n",
      "Test Cost: 0.059\tTest Accuracy: 0.980\n"
     ]
    },
    {
     "data": {
      "image/png": "[encoded data removed]",
      "text/plain": [
       "<Figure size 432x288 with 1 Axes>"
      ]
     },
     "metadata": {
      "needs_background": "light"
     },
     "output_type": "display_data"
    },
    {
     "data": {
      "image/png": "[encoded data removed]",
      "text/plain": [
       "<Figure size 432x288 with 1 Axes>"
      ]
     },
     "metadata": {
      "needs_background": "light"
     },
     "output_type": "display_data"
    },
    {
     "data": {
      "image/png": "[encoded data removed]",
      "text/plain": [
       "<Figure size 432x288 with 1 Axes>"
      ]
     },
     "metadata": {
      "needs_background": "light"
     },
     "output_type": "display_data"
    }
   ],
   "source": [
    "\n",
    "net = NNet()\n",
    "train_losses, val_losses, train_accs, val_accs = [], [], [], []\n",
    "optimizer = optim.SGD(net.parameters(), lr=0.01)\n",
    "optimizer = optim.Adagrad(net.parameters())\n",
    "\n",
    "# training loop\n",
    "for e in range(10*num_epochs):\n",
    "    # get training input and expected output as torch Variables and make sure type is correct\n",
    "    tr_input = Variable(torch.from_numpy(X_tr))\n",
    "    tr_targets = Variable(torch.from_numpy(onehot(y_tr, num_output))).float()\n",
    "    \n",
    "    # zeroize accumulated gradients in parameters\n",
    "    optimizer.zero_grad()\n",
    "    # predict by running forward pass\n",
    "    tr_output = net(tr_input)\n",
    "    # compute cross entropy loss\n",
    "    tr_loss = cross_entropy(tr_output, tr_targets)\n",
    "    # compute gradients given loss\n",
    "    tr_loss.backward()\n",
    "    # update the parameters given the computed gradients\n",
    "    optimizer.step()\n",
    "    train_acc = accuracy(tr_output, tr_targets)\n",
    "    \n",
    "    # store training loss\n",
    "    train_losses.append(tr_loss.data.numpy())\n",
    "    train_accs.append(train_acc)\n",
    "    \n",
    "    # get validation input and expected output as torch Variables and make sure type is correct\n",
    "    val_input = Variable(torch.from_numpy(X_val))\n",
    "    val_targets = Variable(torch.from_numpy(onehot(y_val, num_output))).float()\n",
    "    \n",
    "    # predict with validation input\n",
    "    val_output = net(val_input)\n",
    "    # compute loss and accuracy\n",
    "    val_loss = cross_entropy(val_output, val_targets)\n",
    "    val_acc = accuracy(val_output, val_targets)\n",
    "    \n",
    "    # store loss and accuracy\n",
    "    val_losses.append(val_loss.data.numpy())\n",
    "    val_accs.append(val_acc.data.numpy())\n",
    "    \n",
    "    if e % 100 == 0:\n",
    "        print(\"Epoch %i, \"\n",
    "              \"Train Cost: %0.3f\"\n",
    "              \"\\tVal Cost: %0.3f\"\n",
    "              \"\\t Val acc: %0.3f\" % (e, \n",
    "                                     train_losses[-1],\n",
    "                                     val_losses[-1],\n",
    "                                     val_accs[-1]))\n",
    "        \n",
    "        \n",
    "# get test input and expected output\n",
    "te_input = Variable(torch.from_numpy(X_te))\n",
    "te_targets = Variable(torch.from_numpy(onehot(y_te, num_output))).float()\n",
    "# predict on testset\n",
    "te_output = net(te_input)\n",
    "# compute loss and accuracy\n",
    "te_loss = cross_entropy(te_output, te_targets)\n",
    "te_acc = accuracy(te_output, te_targets)\n",
    "print(\"\\nTest Cost: %0.3f\\tTest Accuracy: %0.3f\" % (te_loss.data.numpy(), te_acc.data.numpy()))\n",
    "\n",
    "# plot boundary on testset after training session\n",
    "plot_decision_boundary(lambda x: pred(x), X_te, y_te)\n",
    "plt.title(\"Trained Classifier\")\n",
    "\n",
    "plt.figure()\n",
    "epoch = np.arange(len(train_losses))\n",
    "plt.plot(epoch, train_losses, 'r', label='Train Loss')\n",
    "plt.plot(epoch, val_losses, 'b', label='Val Loss')\n",
    "plt.legend()\n",
    "plt.xlabel('Updates')\n",
    "plt.ylabel('Loss')\n",
    "plt.show()\n",
    "\n",
    "plt.figure()\n",
    "plt.plot(epoch, train_accs, 'r', label='Train Acc')\n",
    "plt.plot(epoch, val_accs, 'b', label='Val Acc')\n",
    "plt.legend()\n",
    "plt.xlabel('Updates')\n",
    "plt.ylabel('Accuracy')\n",
    "plt.show()"
   ]
  },
  {
   "cell_type": "code",
   "execution_count": null,
   "metadata": {},
   "outputs": [],
   "source": []
  },
  {
   "cell_type": "code",
   "execution_count": null,
   "metadata": {},
   "outputs": [],
   "source": []
  }
 ],
 "metadata": {
  "kernelspec": {
   "display_name": "Python 3",
   "language": "python",
   "name": "python3"
  },
  "language_info": {
   "codemirror_mode": {
    "name": "ipython",
    "version": 3
   },
   "file_extension": ".py",
   "mimetype": "text/x-python",
   "name": "python",
   "nbconvert_exporter": "python",
   "pygments_lexer": "ipython3",
   "version": "3.6.5"
  }
 },
 "nbformat": 4,
 "nbformat_minor": 1
}
